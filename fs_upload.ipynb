{
 "cells": [
  {
   "cell_type": "markdown",
   "id": "55570bbb",
   "metadata": {},
   "source": [
    "## Upload dos arquivos\n",
    "Deve ser feito 1 vez por pasta, modificando o local da pasta e o formato "
   ]
  },
  {
   "cell_type": "code",
   "execution_count": 13,
   "id": "8553c337-8743-493a-ad91-c8d90de52813",
   "metadata": {},
   "outputs": [
    {
     "name": "stdout",
     "output_type": "stream",
     "text": [
      "Audiovisual file 'BR_RJANRIO_FS_0_FIL_0002_d0001de0001.mp4' uploaded successfully to MongoDB with file ID: 66214a6f91feed3ad18916cd\n",
      "Audiovisual file 'BR_RJANRIO_FS_0_FIL_0004_d0001de0001.mp4' uploaded successfully to MongoDB with file ID: 66214a7091feed3ad1891802\n",
      "Audiovisual file 'BR_RJANRIO_FS_0_FIL_0181_d0001de0001.mp4' uploaded successfully to MongoDB with file ID: 66214a7091feed3ad1891901\n",
      "Audiovisual file 'BR_RJANRIO_FS_0_FIL_0237_d0001de0001.mp4' uploaded successfully to MongoDB with file ID: 66214a7791feed3ad1891b5e\n",
      "Audiovisual file 'BR_RJANRIO_FS_0_FIL_0241_d0001de0001.mp4' uploaded successfully to MongoDB with file ID: 66214a7c91feed3ad1891ea5\n",
      "Audiovisual file 'BR_RJANRIO_FS_0_FIL_0267_d0001de0001.mp4' uploaded successfully to MongoDB with file ID: 66214a8591feed3ad1891fb4\n",
      "Audiovisual file 'BR_RJANRIO_NK_0_RAV_0002_d0001de0001.mp4' uploaded successfully to MongoDB with file ID: 66214a8991feed3ad18921bd\n",
      "Audiovisual file 'BR_RJANRIO_NK_0_RAV_0015_d0001de0001.mp4' uploaded successfully to MongoDB with file ID: 66214a9091feed3ad1892427\n",
      "Audiovisual file 'BR_RJANRIO_NO_0_FIL_1700_d0001de0001.mp4' uploaded successfully to MongoDB with file ID: 66214a9291feed3ad1892657\n",
      "Audiovisual file 'BR_RJANRIO_NO_0_FIL_1701_d0001de0001.mp4' uploaded successfully to MongoDB with file ID: 66214a9891feed3ad1892703\n",
      "Audiovisual file 'BR_RJANRIO_NO_0_FIL_1724_d0001de0001.mp4' uploaded successfully to MongoDB with file ID: 66214a9991feed3ad189286f\n"
     ]
    }
   ],
   "source": [
    "from pymongo import MongoClient\n",
    "import gridfs\n",
    "import os\n",
    "\n",
    "host = 'localhost'\n",
    "port = 27017\n",
    "database = 'hackathan_db'\n",
    "collection_name = 'fs'\n",
    "\n",
    "folder_path = \"FilePath\" # Adicione o filepath onde está o arquivo de cada tipo.\n",
    "\n",
    "client = MongoClient(host, port)\n",
    "db = client[database]\n",
    "\n",
    "fs = gridfs.GridFS(db, collection=collection_name)\n",
    "\n",
    "try:\n",
    "    for file_name in os.listdir(folder_path):\n",
    "        if file_name.endswith('.mp4'):\n",
    "            with open(os.path.join(folder_path, file_name), 'rb') as file:\n",
    "                file_id = fs.put(file, filename=file_name)\n",
    "            print(f\"Audiovisual file '{file_name}' uploaded successfully to MongoDB with file ID:\", file_id)\n",
    "except Exception as e:\n",
    "    print(\"Error:\", e)\n",
    "finally:\n",
    "    client.close()\n"
   ]
  },
  {
   "cell_type": "markdown",
   "id": "e6a73738",
   "metadata": {},
   "source": [
    "## Download de arquivo selecionado"
   ]
  },
  {
   "cell_type": "code",
   "execution_count": 22,
   "id": "af865d4e-51e7-4b7a-b176-5ca507c36090",
   "metadata": {},
   "outputs": [
    {
     "name": "stdout",
     "output_type": "stream",
     "text": [
      "Arquivo BR_RJANRIO_0E_COD_0_0390_v_06_d0001de0001_Hackton_AN.pdf extraido com sucesso.\n"
     ]
    }
   ],
   "source": [
    "import pymongo\n",
    "from bson.objectid import ObjectId\n",
    "\n",
    "client = pymongo.MongoClient(\"mongodb://localhost:27017/\")\n",
    "db = client[\"hackathan_db\"]\n",
    "fs_files = db[\"fs.files\"]\n",
    "fs_chunks = db[\"fs.chunks\"]\n",
    "\n",
    "file_doc = fs_files.find_one({\"_id\": ObjectId(\"6621498791feed3ad1890f02\")}) # Substitua pelo id usado\n",
    "\n",
    "if file_doc:\n",
    "    filename = file_doc[\"filename\"]\n",
    "\n",
    "    file_data = b\"\"\n",
    "    for chunk in fs_chunks.find({\"files_id\": file_doc[\"_id\"]}):\n",
    "        file_data += chunk[\"data\"]\n",
    "\n",
    "    with open(filename, \"wb\") as f:\n",
    "        f.write(file_data)\n",
    "\n",
    "    print(f\"Arquivo {filename} extraido com sucesso.\")\n",
    "else:\n",
    "    print(\"Arquivo não encontrado.\")"
   ]
  }
 ],
 "metadata": {
  "kernelspec": {
   "display_name": "Python 3 (ipykernel)",
   "language": "python",
   "name": "python3"
  },
  "language_info": {
   "codemirror_mode": {
    "name": "ipython",
    "version": 3
   },
   "file_extension": ".py",
   "mimetype": "text/x-python",
   "name": "python",
   "nbconvert_exporter": "python",
   "pygments_lexer": "ipython3",
   "version": "3.11.5"
  }
 },
 "nbformat": 4,
 "nbformat_minor": 5
}
